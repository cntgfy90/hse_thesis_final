{
 "cells": [
  {
   "cell_type": "code",
   "execution_count": 3,
   "id": "2b58f44a-5906-4bff-9e61-532780af19c6",
   "metadata": {},
   "outputs": [],
   "source": [
    "import pandas as pd\n",
    "import numpy as np\n",
    "import matplotlib.pyplot as plt\n",
    "import seaborn as sns\n",
    "import scipy\n",
    "from collections import Counter\n",
    "from sklearn.feature_extraction.text import CountVectorizer\n",
    "from utils import get_child_categories_count_by_parent_categories"
   ]
  },
  {
   "cell_type": "code",
   "execution_count": 14,
   "id": "c0ddd664-36fb-4131-80d8-a21c23eccf6d",
   "metadata": {},
   "outputs": [
    {
     "data": {
      "text/html": [
       "<div>\n",
       "<style scoped>\n",
       "    .dataframe tbody tr th:only-of-type {\n",
       "        vertical-align: middle;\n",
       "    }\n",
       "\n",
       "    .dataframe tbody tr th {\n",
       "        vertical-align: top;\n",
       "    }\n",
       "\n",
       "    .dataframe thead th {\n",
       "        text-align: right;\n",
       "    }\n",
       "</style>\n",
       "<table border=\"1\" class=\"dataframe\">\n",
       "  <thead>\n",
       "    <tr style=\"text-align: right;\">\n",
       "      <th></th>\n",
       "      <th>category</th>\n",
       "      <th>description</th>\n",
       "    </tr>\n",
       "  </thead>\n",
       "  <tbody>\n",
       "    <tr>\n",
       "      <th>0</th>\n",
       "      <td>[Arts, Crafts, Sewing]</td>\n",
       "      <td>Solder Pick for picking up molten solder when ...</td>\n",
       "    </tr>\n",
       "    <tr>\n",
       "      <th>1</th>\n",
       "      <td>[Cell Phones, Accessories]</td>\n",
       "      <td>We all screen. And we all need to protect thos...</td>\n",
       "    </tr>\n",
       "    <tr>\n",
       "      <th>2</th>\n",
       "      <td>[Clothing, Shoes, Jewelry]</td>\n",
       "      <td>Bringing you precision at a glance, the Casio ...</td>\n",
       "    </tr>\n",
       "    <tr>\n",
       "      <th>3</th>\n",
       "      <td>[Tools, Home Improvement]</td>\n",
       "      <td>Factory-Reconditioned DEWALT DW260KR Heavy-Dut...</td>\n",
       "    </tr>\n",
       "    <tr>\n",
       "      <th>4</th>\n",
       "      <td>[Health, Personal Care]</td>\n",
       "      <td>This twoway light features a bright flashlight...</td>\n",
       "    </tr>\n",
       "    <tr>\n",
       "      <th>...</th>\n",
       "      <td>...</td>\n",
       "      <td>...</td>\n",
       "    </tr>\n",
       "    <tr>\n",
       "      <th>46224</th>\n",
       "      <td>[Sports, Outdoors]</td>\n",
       "      <td>Smooth - casting Berkley Trilene XL Fishing Li...</td>\n",
       "    </tr>\n",
       "    <tr>\n",
       "      <th>46225</th>\n",
       "      <td>[Arts, Crafts, Sewing]</td>\n",
       "      <td>An easy to use, top quality spray gun for the ...</td>\n",
       "    </tr>\n",
       "    <tr>\n",
       "      <th>46226</th>\n",
       "      <td>[Arts, Crafts, Sewing]</td>\n",
       "      <td>Fimo Soft Polymer Clay is easier to use than b...</td>\n",
       "    </tr>\n",
       "    <tr>\n",
       "      <th>46227</th>\n",
       "      <td>[Grocery, Gourmet Food]</td>\n",
       "      <td>Icing Colors. This plastic bottle contains 1 o...</td>\n",
       "    </tr>\n",
       "    <tr>\n",
       "      <th>46228</th>\n",
       "      <td>[Arts, Crafts, Sewing]</td>\n",
       "      <td>Sculpey 3 Polymer Clay is America's original o...</td>\n",
       "    </tr>\n",
       "  </tbody>\n",
       "</table>\n",
       "<p>46229 rows × 2 columns</p>\n",
       "</div>"
      ],
      "text/plain": [
       "                         category  \\\n",
       "0          [Arts, Crafts, Sewing]   \n",
       "1      [Cell Phones, Accessories]   \n",
       "2      [Clothing, Shoes, Jewelry]   \n",
       "3       [Tools, Home Improvement]   \n",
       "4         [Health, Personal Care]   \n",
       "...                           ...   \n",
       "46224          [Sports, Outdoors]   \n",
       "46225      [Arts, Crafts, Sewing]   \n",
       "46226      [Arts, Crafts, Sewing]   \n",
       "46227     [Grocery, Gourmet Food]   \n",
       "46228      [Arts, Crafts, Sewing]   \n",
       "\n",
       "                                             description  \n",
       "0      Solder Pick for picking up molten solder when ...  \n",
       "1      We all screen. And we all need to protect thos...  \n",
       "2      Bringing you precision at a glance, the Casio ...  \n",
       "3      Factory-Reconditioned DEWALT DW260KR Heavy-Dut...  \n",
       "4      This twoway light features a bright flashlight...  \n",
       "...                                                  ...  \n",
       "46224  Smooth - casting Berkley Trilene XL Fishing Li...  \n",
       "46225  An easy to use, top quality spray gun for the ...  \n",
       "46226  Fimo Soft Polymer Clay is easier to use than b...  \n",
       "46227  Icing Colors. This plastic bottle contains 1 o...  \n",
       "46228  Sculpey 3 Polymer Clay is America's original o...  \n",
       "\n",
       "[46229 rows x 2 columns]"
      ]
     },
     "execution_count": 14,
     "metadata": {},
     "output_type": "execute_result"
    }
   ],
   "source": [
    "data = pd.read_csv('../datasets/retail_products_classification/train.csv')\n",
    "data = data[['categories', 'description']]\n",
    "data['categories'] = data['categories'].str.split(',')\n",
    "data['categories'] = data['categories'].apply(lambda x: [i.split('&') for i in x])\n",
    "data['categories'] = data['categories'].apply(lambda x: [j for i in x for j in i])\n",
    "data['categories'] = data['categories'].apply(lambda x: [c.strip() for c in x])\n",
    "data = data.rename(columns={ 'categories': 'category' })\n",
    "data"
   ]
  },
  {
   "cell_type": "code",
   "execution_count": 15,
   "id": "18842d90-2c70-4b8a-a9bb-459c34e3681e",
   "metadata": {},
   "outputs": [
    {
     "data": {
      "text/plain": [
       "1042"
      ]
     },
     "execution_count": 15,
     "metadata": {},
     "output_type": "execute_result"
    }
   ],
   "source": [
    "data['description'].isna().sum()"
   ]
  },
  {
   "cell_type": "code",
   "execution_count": 16,
   "id": "24ffa0ec-d971-4085-aa79-be593b8c440c",
   "metadata": {},
   "outputs": [
    {
     "data": {
      "text/html": [
       "<div>\n",
       "<style scoped>\n",
       "    .dataframe tbody tr th:only-of-type {\n",
       "        vertical-align: middle;\n",
       "    }\n",
       "\n",
       "    .dataframe tbody tr th {\n",
       "        vertical-align: top;\n",
       "    }\n",
       "\n",
       "    .dataframe thead th {\n",
       "        text-align: right;\n",
       "    }\n",
       "</style>\n",
       "<table border=\"1\" class=\"dataframe\">\n",
       "  <thead>\n",
       "    <tr style=\"text-align: right;\">\n",
       "      <th></th>\n",
       "      <th>category</th>\n",
       "      <th>description</th>\n",
       "    </tr>\n",
       "  </thead>\n",
       "  <tbody>\n",
       "    <tr>\n",
       "      <th>0</th>\n",
       "      <td>[Arts, Crafts, Sewing]</td>\n",
       "      <td>Solder Pick for picking up molten solder when ...</td>\n",
       "    </tr>\n",
       "    <tr>\n",
       "      <th>1</th>\n",
       "      <td>[Cell Phones, Accessories]</td>\n",
       "      <td>We all screen. And we all need to protect thos...</td>\n",
       "    </tr>\n",
       "    <tr>\n",
       "      <th>2</th>\n",
       "      <td>[Clothing, Shoes, Jewelry]</td>\n",
       "      <td>Bringing you precision at a glance, the Casio ...</td>\n",
       "    </tr>\n",
       "    <tr>\n",
       "      <th>3</th>\n",
       "      <td>[Tools, Home Improvement]</td>\n",
       "      <td>Factory-Reconditioned DEWALT DW260KR Heavy-Dut...</td>\n",
       "    </tr>\n",
       "    <tr>\n",
       "      <th>4</th>\n",
       "      <td>[Health, Personal Care]</td>\n",
       "      <td>This twoway light features a bright flashlight...</td>\n",
       "    </tr>\n",
       "    <tr>\n",
       "      <th>...</th>\n",
       "      <td>...</td>\n",
       "      <td>...</td>\n",
       "    </tr>\n",
       "    <tr>\n",
       "      <th>46224</th>\n",
       "      <td>[Sports, Outdoors]</td>\n",
       "      <td>Smooth - casting Berkley Trilene XL Fishing Li...</td>\n",
       "    </tr>\n",
       "    <tr>\n",
       "      <th>46225</th>\n",
       "      <td>[Arts, Crafts, Sewing]</td>\n",
       "      <td>An easy to use, top quality spray gun for the ...</td>\n",
       "    </tr>\n",
       "    <tr>\n",
       "      <th>46226</th>\n",
       "      <td>[Arts, Crafts, Sewing]</td>\n",
       "      <td>Fimo Soft Polymer Clay is easier to use than b...</td>\n",
       "    </tr>\n",
       "    <tr>\n",
       "      <th>46227</th>\n",
       "      <td>[Grocery, Gourmet Food]</td>\n",
       "      <td>Icing Colors. This plastic bottle contains 1 o...</td>\n",
       "    </tr>\n",
       "    <tr>\n",
       "      <th>46228</th>\n",
       "      <td>[Arts, Crafts, Sewing]</td>\n",
       "      <td>Sculpey 3 Polymer Clay is America's original o...</td>\n",
       "    </tr>\n",
       "  </tbody>\n",
       "</table>\n",
       "<p>45187 rows × 2 columns</p>\n",
       "</div>"
      ],
      "text/plain": [
       "                         category  \\\n",
       "0          [Arts, Crafts, Sewing]   \n",
       "1      [Cell Phones, Accessories]   \n",
       "2      [Clothing, Shoes, Jewelry]   \n",
       "3       [Tools, Home Improvement]   \n",
       "4         [Health, Personal Care]   \n",
       "...                           ...   \n",
       "46224          [Sports, Outdoors]   \n",
       "46225      [Arts, Crafts, Sewing]   \n",
       "46226      [Arts, Crafts, Sewing]   \n",
       "46227     [Grocery, Gourmet Food]   \n",
       "46228      [Arts, Crafts, Sewing]   \n",
       "\n",
       "                                             description  \n",
       "0      Solder Pick for picking up molten solder when ...  \n",
       "1      We all screen. And we all need to protect thos...  \n",
       "2      Bringing you precision at a glance, the Casio ...  \n",
       "3      Factory-Reconditioned DEWALT DW260KR Heavy-Dut...  \n",
       "4      This twoway light features a bright flashlight...  \n",
       "...                                                  ...  \n",
       "46224  Smooth - casting Berkley Trilene XL Fishing Li...  \n",
       "46225  An easy to use, top quality spray gun for the ...  \n",
       "46226  Fimo Soft Polymer Clay is easier to use than b...  \n",
       "46227  Icing Colors. This plastic bottle contains 1 o...  \n",
       "46228  Sculpey 3 Polymer Clay is America's original o...  \n",
       "\n",
       "[45187 rows x 2 columns]"
      ]
     },
     "execution_count": 16,
     "metadata": {},
     "output_type": "execute_result"
    }
   ],
   "source": [
    "data = data.dropna()\n",
    "\n",
    "data"
   ]
  },
  {
   "cell_type": "code",
   "execution_count": 17,
   "id": "fdb70f96-8894-462a-8d2c-90e4365ee4e4",
   "metadata": {},
   "outputs": [
    {
     "name": "stderr",
     "output_type": "stream",
     "text": [
      "/tmp/ipykernel_26252/978913276.py:1: SettingWithCopyWarning: \n",
      "A value is trying to be set on a copy of a slice from a DataFrame.\n",
      "Try using .loc[row_indexer,col_indexer] = value instead\n",
      "\n",
      "See the caveats in the documentation: https://pandas.pydata.org/pandas-docs/stable/user_guide/indexing.html#returning-a-view-versus-a-copy\n",
      "  data['categories_count'] = data['category'].str.len()\n"
     ]
    },
    {
     "data": {
      "text/html": [
       "<div>\n",
       "<style scoped>\n",
       "    .dataframe tbody tr th:only-of-type {\n",
       "        vertical-align: middle;\n",
       "    }\n",
       "\n",
       "    .dataframe tbody tr th {\n",
       "        vertical-align: top;\n",
       "    }\n",
       "\n",
       "    .dataframe thead th {\n",
       "        text-align: right;\n",
       "    }\n",
       "</style>\n",
       "<table border=\"1\" class=\"dataframe\">\n",
       "  <thead>\n",
       "    <tr style=\"text-align: right;\">\n",
       "      <th></th>\n",
       "      <th>category</th>\n",
       "      <th>description</th>\n",
       "      <th>categories_count</th>\n",
       "    </tr>\n",
       "  </thead>\n",
       "  <tbody>\n",
       "    <tr>\n",
       "      <th>5</th>\n",
       "      <td>[Baby Products]</td>\n",
       "      <td>This adorable ducky makes the perfect gift for...</td>\n",
       "      <td>1</td>\n",
       "    </tr>\n",
       "    <tr>\n",
       "      <th>6</th>\n",
       "      <td>[Baby Products]</td>\n",
       "      <td>Lilypadz are the revolutionary alternative to ...</td>\n",
       "      <td>1</td>\n",
       "    </tr>\n",
       "    <tr>\n",
       "      <th>7</th>\n",
       "      <td>[Baby]</td>\n",
       "      <td>Light weight double stroller that is perfect f...</td>\n",
       "      <td>1</td>\n",
       "    </tr>\n",
       "    <tr>\n",
       "      <th>9</th>\n",
       "      <td>[Baby]</td>\n",
       "      <td>This toddler bed is for your little king or qu...</td>\n",
       "      <td>1</td>\n",
       "    </tr>\n",
       "    <tr>\n",
       "      <th>11</th>\n",
       "      <td>[Beauty]</td>\n",
       "      <td>Give your hair total range with the Conair CS9...</td>\n",
       "      <td>1</td>\n",
       "    </tr>\n",
       "    <tr>\n",
       "      <th>...</th>\n",
       "      <td>...</td>\n",
       "      <td>...</td>\n",
       "      <td>...</td>\n",
       "    </tr>\n",
       "    <tr>\n",
       "      <th>46192</th>\n",
       "      <td>[All Beauty]</td>\n",
       "      <td>This mascara gives your lashes fullness &amp; leng...</td>\n",
       "      <td>1</td>\n",
       "    </tr>\n",
       "    <tr>\n",
       "      <th>46193</th>\n",
       "      <td>[All Beauty]</td>\n",
       "      <td>Why choose to buy this product and why choose ...</td>\n",
       "      <td>1</td>\n",
       "    </tr>\n",
       "    <tr>\n",
       "      <th>46194</th>\n",
       "      <td>[Musical Instruments]</td>\n",
       "      <td>The RD8 is our most value-oriented Classical g...</td>\n",
       "      <td>1</td>\n",
       "    </tr>\n",
       "    <tr>\n",
       "      <th>46195</th>\n",
       "      <td>[Musical Instruments]</td>\n",
       "      <td>Controlled low-end rumble and a focused attack...</td>\n",
       "      <td>1</td>\n",
       "    </tr>\n",
       "    <tr>\n",
       "      <th>46213</th>\n",
       "      <td>[Musical Instruments]</td>\n",
       "      <td>Master Key Chromatic Pitch Pipe</td>\n",
       "      <td>1</td>\n",
       "    </tr>\n",
       "  </tbody>\n",
       "</table>\n",
       "<p>23553 rows × 3 columns</p>\n",
       "</div>"
      ],
      "text/plain": [
       "                    category  \\\n",
       "5            [Baby Products]   \n",
       "6            [Baby Products]   \n",
       "7                     [Baby]   \n",
       "9                     [Baby]   \n",
       "11                  [Beauty]   \n",
       "...                      ...   \n",
       "46192           [All Beauty]   \n",
       "46193           [All Beauty]   \n",
       "46194  [Musical Instruments]   \n",
       "46195  [Musical Instruments]   \n",
       "46213  [Musical Instruments]   \n",
       "\n",
       "                                             description  categories_count  \n",
       "5      This adorable ducky makes the perfect gift for...                 1  \n",
       "6      Lilypadz are the revolutionary alternative to ...                 1  \n",
       "7      Light weight double stroller that is perfect f...                 1  \n",
       "9      This toddler bed is for your little king or qu...                 1  \n",
       "11     Give your hair total range with the Conair CS9...                 1  \n",
       "...                                                  ...               ...  \n",
       "46192  This mascara gives your lashes fullness & leng...                 1  \n",
       "46193  Why choose to buy this product and why choose ...                 1  \n",
       "46194  The RD8 is our most value-oriented Classical g...                 1  \n",
       "46195  Controlled low-end rumble and a focused attack...                 1  \n",
       "46213                    Master Key Chromatic Pitch Pipe                 1  \n",
       "\n",
       "[23553 rows x 3 columns]"
      ]
     },
     "execution_count": 17,
     "metadata": {},
     "output_type": "execute_result"
    }
   ],
   "source": [
    "data['categories_count'] = data['category'].str.len()\n",
    "\n",
    "data[data['categories_count'] == 1]"
   ]
  },
  {
   "cell_type": "code",
   "execution_count": 18,
   "id": "82437020-1b9b-43f2-8393-70b8da540da3",
   "metadata": {},
   "outputs": [
    {
     "data": {
      "text/html": [
       "<div>\n",
       "<style scoped>\n",
       "    .dataframe tbody tr th:only-of-type {\n",
       "        vertical-align: middle;\n",
       "    }\n",
       "\n",
       "    .dataframe tbody tr th {\n",
       "        vertical-align: top;\n",
       "    }\n",
       "\n",
       "    .dataframe thead th {\n",
       "        text-align: right;\n",
       "    }\n",
       "</style>\n",
       "<table border=\"1\" class=\"dataframe\">\n",
       "  <thead>\n",
       "    <tr style=\"text-align: right;\">\n",
       "      <th></th>\n",
       "      <th>category</th>\n",
       "      <th>description</th>\n",
       "      <th>categories_count</th>\n",
       "    </tr>\n",
       "  </thead>\n",
       "  <tbody>\n",
       "    <tr>\n",
       "      <th>0</th>\n",
       "      <td>[Arts, Crafts, Sewing]</td>\n",
       "      <td>Solder Pick for picking up molten solder when ...</td>\n",
       "      <td>3</td>\n",
       "    </tr>\n",
       "    <tr>\n",
       "      <th>1</th>\n",
       "      <td>[Cell Phones, Accessories]</td>\n",
       "      <td>We all screen. And we all need to protect thos...</td>\n",
       "      <td>2</td>\n",
       "    </tr>\n",
       "    <tr>\n",
       "      <th>2</th>\n",
       "      <td>[Clothing, Shoes, Jewelry]</td>\n",
       "      <td>Bringing you precision at a glance, the Casio ...</td>\n",
       "      <td>3</td>\n",
       "    </tr>\n",
       "    <tr>\n",
       "      <th>3</th>\n",
       "      <td>[Tools, Home Improvement]</td>\n",
       "      <td>Factory-Reconditioned DEWALT DW260KR Heavy-Dut...</td>\n",
       "      <td>2</td>\n",
       "    </tr>\n",
       "    <tr>\n",
       "      <th>4</th>\n",
       "      <td>[Health, Personal Care]</td>\n",
       "      <td>This twoway light features a bright flashlight...</td>\n",
       "      <td>2</td>\n",
       "    </tr>\n",
       "    <tr>\n",
       "      <th>...</th>\n",
       "      <td>...</td>\n",
       "      <td>...</td>\n",
       "      <td>...</td>\n",
       "    </tr>\n",
       "    <tr>\n",
       "      <th>46224</th>\n",
       "      <td>[Sports, Outdoors]</td>\n",
       "      <td>Smooth - casting Berkley Trilene XL Fishing Li...</td>\n",
       "      <td>2</td>\n",
       "    </tr>\n",
       "    <tr>\n",
       "      <th>46225</th>\n",
       "      <td>[Arts, Crafts, Sewing]</td>\n",
       "      <td>An easy to use, top quality spray gun for the ...</td>\n",
       "      <td>3</td>\n",
       "    </tr>\n",
       "    <tr>\n",
       "      <th>46226</th>\n",
       "      <td>[Arts, Crafts, Sewing]</td>\n",
       "      <td>Fimo Soft Polymer Clay is easier to use than b...</td>\n",
       "      <td>3</td>\n",
       "    </tr>\n",
       "    <tr>\n",
       "      <th>46227</th>\n",
       "      <td>[Grocery, Gourmet Food]</td>\n",
       "      <td>Icing Colors. This plastic bottle contains 1 o...</td>\n",
       "      <td>2</td>\n",
       "    </tr>\n",
       "    <tr>\n",
       "      <th>46228</th>\n",
       "      <td>[Arts, Crafts, Sewing]</td>\n",
       "      <td>Sculpey 3 Polymer Clay is America's original o...</td>\n",
       "      <td>3</td>\n",
       "    </tr>\n",
       "  </tbody>\n",
       "</table>\n",
       "<p>21634 rows × 3 columns</p>\n",
       "</div>"
      ],
      "text/plain": [
       "                         category  \\\n",
       "0          [Arts, Crafts, Sewing]   \n",
       "1      [Cell Phones, Accessories]   \n",
       "2      [Clothing, Shoes, Jewelry]   \n",
       "3       [Tools, Home Improvement]   \n",
       "4         [Health, Personal Care]   \n",
       "...                           ...   \n",
       "46224          [Sports, Outdoors]   \n",
       "46225      [Arts, Crafts, Sewing]   \n",
       "46226      [Arts, Crafts, Sewing]   \n",
       "46227     [Grocery, Gourmet Food]   \n",
       "46228      [Arts, Crafts, Sewing]   \n",
       "\n",
       "                                             description  categories_count  \n",
       "0      Solder Pick for picking up molten solder when ...                 3  \n",
       "1      We all screen. And we all need to protect thos...                 2  \n",
       "2      Bringing you precision at a glance, the Casio ...                 3  \n",
       "3      Factory-Reconditioned DEWALT DW260KR Heavy-Dut...                 2  \n",
       "4      This twoway light features a bright flashlight...                 2  \n",
       "...                                                  ...               ...  \n",
       "46224  Smooth - casting Berkley Trilene XL Fishing Li...                 2  \n",
       "46225  An easy to use, top quality spray gun for the ...                 3  \n",
       "46226  Fimo Soft Polymer Clay is easier to use than b...                 3  \n",
       "46227  Icing Colors. This plastic bottle contains 1 o...                 2  \n",
       "46228  Sculpey 3 Polymer Clay is America's original o...                 3  \n",
       "\n",
       "[21634 rows x 3 columns]"
      ]
     },
     "execution_count": 18,
     "metadata": {},
     "output_type": "execute_result"
    }
   ],
   "source": [
    "data = data[data['categories_count'] != 1]\n",
    "\n",
    "data"
   ]
  },
  {
   "cell_type": "code",
   "execution_count": 19,
   "id": "1a1aeff6-c458-4e8b-96a8-644397dd69cd",
   "metadata": {},
   "outputs": [
    {
     "data": {
      "text/plain": [
       "Counter({'Grocery': 2196,\n",
       "         'Gourmet Food': 2196,\n",
       "         'Toys': 2194,\n",
       "         'Games': 2194,\n",
       "         'Cell Phones': 2188,\n",
       "         'Accessories': 2188,\n",
       "         'Tools': 2183,\n",
       "         'Home Improvement': 2183,\n",
       "         'Clothing': 2182,\n",
       "         'Shoes': 2182,\n",
       "         'Jewelry': 2182,\n",
       "         'Sports': 2178,\n",
       "         'Outdoors': 2178,\n",
       "         'Arts': 2175,\n",
       "         'Crafts': 2175,\n",
       "         'Sewing': 2175,\n",
       "         'Patio': 2168,\n",
       "         'Lawn': 2168,\n",
       "         'Garden': 2168,\n",
       "         'Health': 2154,\n",
       "         'Personal Care': 2154,\n",
       "         'Industrial': 2016,\n",
       "         'Scientific': 2016})"
      ]
     },
     "execution_count": 19,
     "metadata": {},
     "output_type": "execute_result"
    }
   ],
   "source": [
    "categories_count = Counter({})\n",
    "\n",
    "for x in data['category']:\n",
    "    categories_count += Counter(x)\n",
    "\n",
    "categories_count"
   ]
  },
  {
   "cell_type": "code",
   "execution_count": 20,
   "id": "d8fb4881-c909-4c76-b71d-350ded3840c3",
   "metadata": {},
   "outputs": [
    {
     "data": {
      "text/plain": [
       "23"
      ]
     },
     "execution_count": 20,
     "metadata": {},
     "output_type": "execute_result"
    }
   ],
   "source": [
    "all_unique_categories = list(set([k for x in data['category'] for k in x]))\n",
    "\n",
    "len(all_unique_categories)"
   ]
  },
  {
   "cell_type": "code",
   "execution_count": 21,
   "id": "dc5c6f32-8162-43e9-8ba0-365cdcf2de5a",
   "metadata": {},
   "outputs": [
    {
     "data": {
      "text/plain": [
       "['Tools',\n",
       " 'Health',\n",
       " 'Patio',\n",
       " 'Industrial',\n",
       " 'Grocery',\n",
       " 'Clothing',\n",
       " 'Arts',\n",
       " 'Cell Phones',\n",
       " 'Toys',\n",
       " 'Sports']"
      ]
     },
     "execution_count": 21,
     "metadata": {},
     "output_type": "execute_result"
    }
   ],
   "source": [
    "parent_unique_categories = list(set([x[0] for x in data['category']]))\n",
    "\n",
    "parent_unique_categories"
   ]
  },
  {
   "cell_type": "code",
   "execution_count": 22,
   "id": "616aa8ba-8d76-49b5-8874-d1e3da4b624a",
   "metadata": {},
   "outputs": [
    {
     "data": {
      "text/plain": [
       "10"
      ]
     },
     "execution_count": 22,
     "metadata": {},
     "output_type": "execute_result"
    }
   ],
   "source": [
    "len(parent_unique_categories)"
   ]
  },
  {
   "cell_type": "code",
   "execution_count": 23,
   "id": "82f84315-772c-4fe7-9ec0-8ee7a11ec6f3",
   "metadata": {},
   "outputs": [
    {
     "data": {
      "image/png": "[encoded data removed]",
      "text/plain": [
       "<Figure size 2000x1000 with 1 Axes>"
      ]
     },
     "metadata": {},
     "output_type": "display_data"
    }
   ],
   "source": [
    "categories_counts = get_child_categories_count_by_parent_categories(data)\n",
    "keys = categories_counts['parent_category']\n",
    "# get values in the same order as keys, and parse percentage values\n",
    "vals = categories_counts['count']\n",
    "\n",
    "plt.figure(figsize=(20, 10))\n",
    "ax = sns.barplot(x=vals, y=keys)\n",
    "ax.tick_params(labelsize=15)\n",
    "ax.spines['top'].set_visible(False)\n",
    "ax.spines['right'].set_visible(False)\n",
    "ax.spines['bottom'].set_visible(False)\n",
    "ax.spines['left'].set_visible(False)"
   ]
  },
  {
   "cell_type": "code",
   "execution_count": 24,
   "id": "cb625e94-5fcb-416a-b37c-5e5733f34683",
   "metadata": {},
   "outputs": [
    {
     "data": {
      "text/html": [
       "<div>\n",
       "<style scoped>\n",
       "    .dataframe tbody tr th:only-of-type {\n",
       "        vertical-align: middle;\n",
       "    }\n",
       "\n",
       "    .dataframe tbody tr th {\n",
       "        vertical-align: top;\n",
       "    }\n",
       "\n",
       "    .dataframe thead th {\n",
       "        text-align: right;\n",
       "    }\n",
       "</style>\n",
       "<table border=\"1\" class=\"dataframe\">\n",
       "  <thead>\n",
       "    <tr style=\"text-align: right;\">\n",
       "      <th></th>\n",
       "      <th>parent_category</th>\n",
       "      <th>count</th>\n",
       "    </tr>\n",
       "  </thead>\n",
       "  <tbody>\n",
       "    <tr>\n",
       "      <th>0</th>\n",
       "      <td>Tools</td>\n",
       "      <td>1</td>\n",
       "    </tr>\n",
       "    <tr>\n",
       "      <th>1</th>\n",
       "      <td>Health</td>\n",
       "      <td>1</td>\n",
       "    </tr>\n",
       "    <tr>\n",
       "      <th>2</th>\n",
       "      <td>Patio</td>\n",
       "      <td>2</td>\n",
       "    </tr>\n",
       "    <tr>\n",
       "      <th>3</th>\n",
       "      <td>Industrial</td>\n",
       "      <td>1</td>\n",
       "    </tr>\n",
       "    <tr>\n",
       "      <th>4</th>\n",
       "      <td>Grocery</td>\n",
       "      <td>1</td>\n",
       "    </tr>\n",
       "    <tr>\n",
       "      <th>5</th>\n",
       "      <td>Clothing</td>\n",
       "      <td>2</td>\n",
       "    </tr>\n",
       "    <tr>\n",
       "      <th>6</th>\n",
       "      <td>Arts</td>\n",
       "      <td>2</td>\n",
       "    </tr>\n",
       "    <tr>\n",
       "      <th>7</th>\n",
       "      <td>Cell Phones</td>\n",
       "      <td>1</td>\n",
       "    </tr>\n",
       "    <tr>\n",
       "      <th>8</th>\n",
       "      <td>Toys</td>\n",
       "      <td>1</td>\n",
       "    </tr>\n",
       "    <tr>\n",
       "      <th>9</th>\n",
       "      <td>Sports</td>\n",
       "      <td>1</td>\n",
       "    </tr>\n",
       "  </tbody>\n",
       "</table>\n",
       "</div>"
      ],
      "text/plain": [
       "  parent_category  count\n",
       "0           Tools      1\n",
       "1          Health      1\n",
       "2           Patio      2\n",
       "3      Industrial      1\n",
       "4         Grocery      1\n",
       "5        Clothing      2\n",
       "6            Arts      2\n",
       "7     Cell Phones      1\n",
       "8            Toys      1\n",
       "9          Sports      1"
      ]
     },
     "execution_count": 24,
     "metadata": {},
     "output_type": "execute_result"
    }
   ],
   "source": [
    "categories_counts"
   ]
  },
  {
   "cell_type": "code",
   "execution_count": 130,
   "id": "04c238ea-be57-4a75-bb91-2ee828b90ac7",
   "metadata": {},
   "outputs": [
    {
     "name": "stderr",
     "output_type": "stream",
     "text": [
      "/tmp/ipykernel_10240/708169020.py:4: UserWarning: \n",
      "\n",
      "`distplot` is a deprecated function and will be removed in seaborn v0.14.0.\n",
      "\n",
      "Please adapt your code to use either `displot` (a figure-level function with\n",
      "similar flexibility) or `histplot` (an axes-level function for histograms).\n",
      "\n",
      "For a guide to updating your code to use the new functions, please see\n",
      "https://gist.github.com/mwaskom/de44147ed2974457ad6372750bbe5751\n",
      "\n",
      "  ax = sns.distplot(data[\"description\"].apply(count_words))\n"
     ]
    },
    {
     "data": {
      "image/png": "[encoded data removed]",
      "text/plain": [
       "<Figure size 640x480 with 1 Axes>"
      ]
     },
     "metadata": {},
     "output_type": "display_data"
    }
   ],
   "source": [
    "def count_words(x):\n",
    "    return len(x.split())\n",
    "\n",
    "ax = sns.distplot(data[\"description\"].apply(count_words))\n",
    "ax.spines['top'].set_visible(False)\n",
    "ax.spines['right'].set_visible(False)\n",
    "ax.spines['bottom'].set_visible(False)\n",
    "ax.spines['left'].set_visible(False)\n",
    "plt.title(\"Num. of tokens per description\")\n",
    "plt.xlabel(\"\")\n",
    "plt.show()"
   ]
  },
  {
   "cell_type": "code",
   "execution_count": 131,
   "id": "e0021c7b-a444-478c-83b2-6fe1250dbc2c",
   "metadata": {},
   "outputs": [
    {
     "data": {
      "text/plain": [
       "count    21634.000000\n",
       "mean        75.878340\n",
       "std         93.996216\n",
       "min          1.000000\n",
       "25%         23.000000\n",
       "50%         50.000000\n",
       "75%         95.000000\n",
       "max       1942.000000\n",
       "Name: description, dtype: float64"
      ]
     },
     "execution_count": 131,
     "metadata": {},
     "output_type": "execute_result"
    }
   ],
   "source": [
    "data[\"description\"].apply(count_words).describe()"
   ]
  },
  {
   "cell_type": "code",
   "execution_count": 135,
   "id": "e4ee18a3-bdc9-438f-8857-bcf7c19be767",
   "metadata": {},
   "outputs": [],
   "source": [
    "data = data[(data['description'].str.split().str.len() > 10) & (data['description'].str.split().str.len() <= 300)]"
   ]
  },
  {
   "cell_type": "code",
   "execution_count": 137,
   "id": "de9524bc-cc52-4543-814d-432fb5c722d4",
   "metadata": {},
   "outputs": [
    {
     "data": {
      "text/html": [
       "<div>\n",
       "<style scoped>\n",
       "    .dataframe tbody tr th:only-of-type {\n",
       "        vertical-align: middle;\n",
       "    }\n",
       "\n",
       "    .dataframe tbody tr th {\n",
       "        vertical-align: top;\n",
       "    }\n",
       "\n",
       "    .dataframe thead th {\n",
       "        text-align: right;\n",
       "    }\n",
       "</style>\n",
       "<table border=\"1\" class=\"dataframe\">\n",
       "  <thead>\n",
       "    <tr style=\"text-align: right;\">\n",
       "      <th></th>\n",
       "      <th>categories</th>\n",
       "      <th>description</th>\n",
       "      <th>categories_count</th>\n",
       "    </tr>\n",
       "  </thead>\n",
       "  <tbody>\n",
       "    <tr>\n",
       "      <th>0</th>\n",
       "      <td>[Cell Phones, Accessories]</td>\n",
       "      <td>We all screen. And we all need to protect thos...</td>\n",
       "      <td>2</td>\n",
       "    </tr>\n",
       "    <tr>\n",
       "      <th>1</th>\n",
       "      <td>[Clothing, Shoes, Jewelry]</td>\n",
       "      <td>Bringing you precision at a glance, the Casio ...</td>\n",
       "      <td>3</td>\n",
       "    </tr>\n",
       "    <tr>\n",
       "      <th>2</th>\n",
       "      <td>[Health, Personal Care]</td>\n",
       "      <td>This twoway light features a bright flashlight...</td>\n",
       "      <td>2</td>\n",
       "    </tr>\n",
       "    <tr>\n",
       "      <th>3</th>\n",
       "      <td>[Patio, Lawn, Garden]</td>\n",
       "      <td>Eastman Outdoors offers High-Quality cooking p...</td>\n",
       "      <td>3</td>\n",
       "    </tr>\n",
       "    <tr>\n",
       "      <th>4</th>\n",
       "      <td>[Clothing, Shoes, Jewelry]</td>\n",
       "      <td>Item Sizing: The size guide found below is spe...</td>\n",
       "      <td>3</td>\n",
       "    </tr>\n",
       "    <tr>\n",
       "      <th>...</th>\n",
       "      <td>...</td>\n",
       "      <td>...</td>\n",
       "      <td>...</td>\n",
       "    </tr>\n",
       "    <tr>\n",
       "      <th>18706</th>\n",
       "      <td>[Sports, Outdoors]</td>\n",
       "      <td>Smooth - casting Berkley Trilene XL Fishing Li...</td>\n",
       "      <td>2</td>\n",
       "    </tr>\n",
       "    <tr>\n",
       "      <th>18707</th>\n",
       "      <td>[Arts, Crafts, Sewing]</td>\n",
       "      <td>An easy to use, top quality spray gun for the ...</td>\n",
       "      <td>3</td>\n",
       "    </tr>\n",
       "    <tr>\n",
       "      <th>18708</th>\n",
       "      <td>[Arts, Crafts, Sewing]</td>\n",
       "      <td>Fimo Soft Polymer Clay is easier to use than b...</td>\n",
       "      <td>3</td>\n",
       "    </tr>\n",
       "    <tr>\n",
       "      <th>18709</th>\n",
       "      <td>[Grocery, Gourmet Food]</td>\n",
       "      <td>Icing Colors. This plastic bottle contains 1 o...</td>\n",
       "      <td>2</td>\n",
       "    </tr>\n",
       "    <tr>\n",
       "      <th>18710</th>\n",
       "      <td>[Arts, Crafts, Sewing]</td>\n",
       "      <td>Sculpey 3 Polymer Clay is America's original o...</td>\n",
       "      <td>3</td>\n",
       "    </tr>\n",
       "  </tbody>\n",
       "</table>\n",
       "<p>18711 rows × 3 columns</p>\n",
       "</div>"
      ],
      "text/plain": [
       "                       categories  \\\n",
       "0      [Cell Phones, Accessories]   \n",
       "1      [Clothing, Shoes, Jewelry]   \n",
       "2         [Health, Personal Care]   \n",
       "3           [Patio, Lawn, Garden]   \n",
       "4      [Clothing, Shoes, Jewelry]   \n",
       "...                           ...   \n",
       "18706          [Sports, Outdoors]   \n",
       "18707      [Arts, Crafts, Sewing]   \n",
       "18708      [Arts, Crafts, Sewing]   \n",
       "18709     [Grocery, Gourmet Food]   \n",
       "18710      [Arts, Crafts, Sewing]   \n",
       "\n",
       "                                             description  categories_count  \n",
       "0      We all screen. And we all need to protect thos...                 2  \n",
       "1      Bringing you precision at a glance, the Casio ...                 3  \n",
       "2      This twoway light features a bright flashlight...                 2  \n",
       "3      Eastman Outdoors offers High-Quality cooking p...                 3  \n",
       "4      Item Sizing: The size guide found below is spe...                 3  \n",
       "...                                                  ...               ...  \n",
       "18706  Smooth - casting Berkley Trilene XL Fishing Li...                 2  \n",
       "18707  An easy to use, top quality spray gun for the ...                 3  \n",
       "18708  Fimo Soft Polymer Clay is easier to use than b...                 3  \n",
       "18709  Icing Colors. This plastic bottle contains 1 o...                 2  \n",
       "18710  Sculpey 3 Polymer Clay is America's original o...                 3  \n",
       "\n",
       "[18711 rows x 3 columns]"
      ]
     },
     "execution_count": 137,
     "metadata": {},
     "output_type": "execute_result"
    }
   ],
   "source": [
    "data = data.reset_index()\n",
    "data = data.drop(['index'], axis=1)\n",
    "data"
   ]
  },
  {
   "cell_type": "code",
   "execution_count": 139,
   "id": "74386100-2361-4acd-8079-18a0c9a49471",
   "metadata": {},
   "outputs": [
    {
     "data": {
      "text/html": [
       "<div>\n",
       "<style scoped>\n",
       "    .dataframe tbody tr th:only-of-type {\n",
       "        vertical-align: middle;\n",
       "    }\n",
       "\n",
       "    .dataframe tbody tr th {\n",
       "        vertical-align: top;\n",
       "    }\n",
       "\n",
       "    .dataframe thead th {\n",
       "        text-align: right;\n",
       "    }\n",
       "</style>\n",
       "<table border=\"1\" class=\"dataframe\">\n",
       "  <thead>\n",
       "    <tr style=\"text-align: right;\">\n",
       "      <th></th>\n",
       "      <th>categories</th>\n",
       "      <th>description</th>\n",
       "      <th>categories_count</th>\n",
       "      <th>parent_category</th>\n",
       "    </tr>\n",
       "  </thead>\n",
       "  <tbody>\n",
       "    <tr>\n",
       "      <th>0</th>\n",
       "      <td>[Cell Phones, Accessories]</td>\n",
       "      <td>We all screen. And we all need to protect thos...</td>\n",
       "      <td>2</td>\n",
       "      <td>Cell Phones</td>\n",
       "    </tr>\n",
       "    <tr>\n",
       "      <th>1</th>\n",
       "      <td>[Clothing, Shoes, Jewelry]</td>\n",
       "      <td>Bringing you precision at a glance, the Casio ...</td>\n",
       "      <td>3</td>\n",
       "      <td>Clothing</td>\n",
       "    </tr>\n",
       "    <tr>\n",
       "      <th>2</th>\n",
       "      <td>[Health, Personal Care]</td>\n",
       "      <td>This twoway light features a bright flashlight...</td>\n",
       "      <td>2</td>\n",
       "      <td>Health</td>\n",
       "    </tr>\n",
       "    <tr>\n",
       "      <th>3</th>\n",
       "      <td>[Patio, Lawn, Garden]</td>\n",
       "      <td>Eastman Outdoors offers High-Quality cooking p...</td>\n",
       "      <td>3</td>\n",
       "      <td>Patio</td>\n",
       "    </tr>\n",
       "    <tr>\n",
       "      <th>4</th>\n",
       "      <td>[Clothing, Shoes, Jewelry]</td>\n",
       "      <td>Item Sizing: The size guide found below is spe...</td>\n",
       "      <td>3</td>\n",
       "      <td>Clothing</td>\n",
       "    </tr>\n",
       "    <tr>\n",
       "      <th>...</th>\n",
       "      <td>...</td>\n",
       "      <td>...</td>\n",
       "      <td>...</td>\n",
       "      <td>...</td>\n",
       "    </tr>\n",
       "    <tr>\n",
       "      <th>18706</th>\n",
       "      <td>[Sports, Outdoors]</td>\n",
       "      <td>Smooth - casting Berkley Trilene XL Fishing Li...</td>\n",
       "      <td>2</td>\n",
       "      <td>Sports</td>\n",
       "    </tr>\n",
       "    <tr>\n",
       "      <th>18707</th>\n",
       "      <td>[Arts, Crafts, Sewing]</td>\n",
       "      <td>An easy to use, top quality spray gun for the ...</td>\n",
       "      <td>3</td>\n",
       "      <td>Arts</td>\n",
       "    </tr>\n",
       "    <tr>\n",
       "      <th>18708</th>\n",
       "      <td>[Arts, Crafts, Sewing]</td>\n",
       "      <td>Fimo Soft Polymer Clay is easier to use than b...</td>\n",
       "      <td>3</td>\n",
       "      <td>Arts</td>\n",
       "    </tr>\n",
       "    <tr>\n",
       "      <th>18709</th>\n",
       "      <td>[Grocery, Gourmet Food]</td>\n",
       "      <td>Icing Colors. This plastic bottle contains 1 o...</td>\n",
       "      <td>2</td>\n",
       "      <td>Grocery</td>\n",
       "    </tr>\n",
       "    <tr>\n",
       "      <th>18710</th>\n",
       "      <td>[Arts, Crafts, Sewing]</td>\n",
       "      <td>Sculpey 3 Polymer Clay is America's original o...</td>\n",
       "      <td>3</td>\n",
       "      <td>Arts</td>\n",
       "    </tr>\n",
       "  </tbody>\n",
       "</table>\n",
       "<p>18711 rows × 4 columns</p>\n",
       "</div>"
      ],
      "text/plain": [
       "                       categories  \\\n",
       "0      [Cell Phones, Accessories]   \n",
       "1      [Clothing, Shoes, Jewelry]   \n",
       "2         [Health, Personal Care]   \n",
       "3           [Patio, Lawn, Garden]   \n",
       "4      [Clothing, Shoes, Jewelry]   \n",
       "...                           ...   \n",
       "18706          [Sports, Outdoors]   \n",
       "18707      [Arts, Crafts, Sewing]   \n",
       "18708      [Arts, Crafts, Sewing]   \n",
       "18709     [Grocery, Gourmet Food]   \n",
       "18710      [Arts, Crafts, Sewing]   \n",
       "\n",
       "                                             description  categories_count  \\\n",
       "0      We all screen. And we all need to protect thos...                 2   \n",
       "1      Bringing you precision at a glance, the Casio ...                 3   \n",
       "2      This twoway light features a bright flashlight...                 2   \n",
       "3      Eastman Outdoors offers High-Quality cooking p...                 3   \n",
       "4      Item Sizing: The size guide found below is spe...                 3   \n",
       "...                                                  ...               ...   \n",
       "18706  Smooth - casting Berkley Trilene XL Fishing Li...                 2   \n",
       "18707  An easy to use, top quality spray gun for the ...                 3   \n",
       "18708  Fimo Soft Polymer Clay is easier to use than b...                 3   \n",
       "18709  Icing Colors. This plastic bottle contains 1 o...                 2   \n",
       "18710  Sculpey 3 Polymer Clay is America's original o...                 3   \n",
       "\n",
       "      parent_category  \n",
       "0         Cell Phones  \n",
       "1            Clothing  \n",
       "2              Health  \n",
       "3               Patio  \n",
       "4            Clothing  \n",
       "...               ...  \n",
       "18706          Sports  \n",
       "18707            Arts  \n",
       "18708            Arts  \n",
       "18709         Grocery  \n",
       "18710            Arts  \n",
       "\n",
       "[18711 rows x 4 columns]"
      ]
     },
     "execution_count": 139,
     "metadata": {},
     "output_type": "execute_result"
    }
   ],
   "source": [
    "data['parent_category'] = data['category'].apply(lambda x: x[0])\n",
    "\n",
    "data"
   ]
  },
  {
   "cell_type": "code",
   "execution_count": 140,
   "id": "d0c64e2e-a964-4f59-8af0-6c18fe354f86",
   "metadata": {},
   "outputs": [
    {
     "name": "stderr",
     "output_type": "stream",
     "text": [
      "/tmp/ipykernel_10240/1204828366.py:1: DeprecationWarning: DataFrameGroupBy.apply operated on the grouping columns. This behavior is deprecated, and in a future version of pandas the grouping columns will be excluded from the operation. Either pass `include_groups=False` to exclude the groupings or explicitly select the grouping columns after groupby to silence this warning.\n",
      "  data.groupby(['parent_category']).apply(lambda x: x['description'].str.split().str.len().mean())\n"
     ]
    },
    {
     "data": {
      "text/plain": [
       "parent_category\n",
       "Arts            63.418000\n",
       "Cell Phones     77.818182\n",
       "Clothing        57.684694\n",
       "Grocery         64.067815\n",
       "Health          80.366685\n",
       "Industrial      62.713551\n",
       "Patio           85.598481\n",
       "Sports          62.981523\n",
       "Tools           71.515152\n",
       "Toys           106.303360\n",
       "dtype: float64"
      ]
     },
     "execution_count": 140,
     "metadata": {},
     "output_type": "execute_result"
    }
   ],
   "source": [
    "data.groupby(['parent_category']).apply(lambda x: x['description'].str.split().str.len().mean())"
   ]
  },
  {
   "cell_type": "code",
   "execution_count": 141,
   "id": "1403ebd4-cc1d-4cfd-b237-5ebfdf17e3b5",
   "metadata": {},
   "outputs": [
    {
     "name": "stderr",
     "output_type": "stream",
     "text": [
      "/tmp/ipykernel_10240/3968563391.py:1: DeprecationWarning: DataFrameGroupBy.apply operated on the grouping columns. This behavior is deprecated, and in a future version of pandas the grouping columns will be excluded from the operation. Either pass `include_groups=False` to exclude the groupings or explicitly select the grouping columns after groupby to silence this warning.\n",
      "  keys = list(data.groupby(['parent_category']).apply(lambda x: x['description'].str.split().str.len().mean()).keys())\n",
      "/tmp/ipykernel_10240/3968563391.py:3: DeprecationWarning: DataFrameGroupBy.apply operated on the grouping columns. This behavior is deprecated, and in a future version of pandas the grouping columns will be excluded from the operation. Either pass `include_groups=False` to exclude the groupings or explicitly select the grouping columns after groupby to silence this warning.\n",
      "  vals = [data.groupby(['parent_category']).apply(lambda x: x['description'].str.split().str.len().mean())[k] for k in keys]\n",
      "/tmp/ipykernel_10240/3968563391.py:3: DeprecationWarning: DataFrameGroupBy.apply operated on the grouping columns. This behavior is deprecated, and in a future version of pandas the grouping columns will be excluded from the operation. Either pass `include_groups=False` to exclude the groupings or explicitly select the grouping columns after groupby to silence this warning.\n",
      "  vals = [data.groupby(['parent_category']).apply(lambda x: x['description'].str.split().str.len().mean())[k] for k in keys]\n",
      "/tmp/ipykernel_10240/3968563391.py:3: DeprecationWarning: DataFrameGroupBy.apply operated on the grouping columns. This behavior is deprecated, and in a future version of pandas the grouping columns will be excluded from the operation. Either pass `include_groups=False` to exclude the groupings or explicitly select the grouping columns after groupby to silence this warning.\n",
      "  vals = [data.groupby(['parent_category']).apply(lambda x: x['description'].str.split().str.len().mean())[k] for k in keys]\n",
      "/tmp/ipykernel_10240/3968563391.py:3: DeprecationWarning: DataFrameGroupBy.apply operated on the grouping columns. This behavior is deprecated, and in a future version of pandas the grouping columns will be excluded from the operation. Either pass `include_groups=False` to exclude the groupings or explicitly select the grouping columns after groupby to silence this warning.\n",
      "  vals = [data.groupby(['parent_category']).apply(lambda x: x['description'].str.split().str.len().mean())[k] for k in keys]\n",
      "/tmp/ipykernel_10240/3968563391.py:3: DeprecationWarning: DataFrameGroupBy.apply operated on the grouping columns. This behavior is deprecated, and in a future version of pandas the grouping columns will be excluded from the operation. Either pass `include_groups=False` to exclude the groupings or explicitly select the grouping columns after groupby to silence this warning.\n",
      "  vals = [data.groupby(['parent_category']).apply(lambda x: x['description'].str.split().str.len().mean())[k] for k in keys]\n",
      "/tmp/ipykernel_10240/3968563391.py:3: DeprecationWarning: DataFrameGroupBy.apply operated on the grouping columns. This behavior is deprecated, and in a future version of pandas the grouping columns will be excluded from the operation. Either pass `include_groups=False` to exclude the groupings or explicitly select the grouping columns after groupby to silence this warning.\n",
      "  vals = [data.groupby(['parent_category']).apply(lambda x: x['description'].str.split().str.len().mean())[k] for k in keys]\n",
      "/tmp/ipykernel_10240/3968563391.py:3: DeprecationWarning: DataFrameGroupBy.apply operated on the grouping columns. This behavior is deprecated, and in a future version of pandas the grouping columns will be excluded from the operation. Either pass `include_groups=False` to exclude the groupings or explicitly select the grouping columns after groupby to silence this warning.\n",
      "  vals = [data.groupby(['parent_category']).apply(lambda x: x['description'].str.split().str.len().mean())[k] for k in keys]\n",
      "/tmp/ipykernel_10240/3968563391.py:3: DeprecationWarning: DataFrameGroupBy.apply operated on the grouping columns. This behavior is deprecated, and in a future version of pandas the grouping columns will be excluded from the operation. Either pass `include_groups=False` to exclude the groupings or explicitly select the grouping columns after groupby to silence this warning.\n",
      "  vals = [data.groupby(['parent_category']).apply(lambda x: x['description'].str.split().str.len().mean())[k] for k in keys]\n",
      "/tmp/ipykernel_10240/3968563391.py:3: DeprecationWarning: DataFrameGroupBy.apply operated on the grouping columns. This behavior is deprecated, and in a future version of pandas the grouping columns will be excluded from the operation. Either pass `include_groups=False` to exclude the groupings or explicitly select the grouping columns after groupby to silence this warning.\n",
      "  vals = [data.groupby(['parent_category']).apply(lambda x: x['description'].str.split().str.len().mean())[k] for k in keys]\n",
      "/tmp/ipykernel_10240/3968563391.py:3: DeprecationWarning: DataFrameGroupBy.apply operated on the grouping columns. This behavior is deprecated, and in a future version of pandas the grouping columns will be excluded from the operation. Either pass `include_groups=False` to exclude the groupings or explicitly select the grouping columns after groupby to silence this warning.\n",
      "  vals = [data.groupby(['parent_category']).apply(lambda x: x['description'].str.split().str.len().mean())[k] for k in keys]\n"
     ]
    },
    {
     "data": {
      "image/png": "[encoded data removed]",
      "text/plain": [
       "<Figure size 2000x1000 with 1 Axes>"
      ]
     },
     "metadata": {},
     "output_type": "display_data"
    }
   ],
   "source": [
    "keys = list(data.groupby(['parent_category']).apply(lambda x: x['description'].str.split().str.len().mean()).keys())\n",
    "# get values in the same order as keys, and parse percentage values\n",
    "vals = [data.groupby(['parent_category']).apply(lambda x: x['description'].str.split().str.len().mean())[k] for k in keys]\n",
    "\n",
    "plt.figure(figsize=(20, 10))\n",
    "ax = sns.barplot(x=vals, y=keys)\n",
    "ax.tick_params(labelsize=15)\n",
    "ax.spines['top'].set_visible(False)\n",
    "ax.spines['right'].set_visible(False)\n",
    "ax.spines['bottom'].set_visible(False)\n",
    "ax.spines['left'].set_visible(False)\n",
    "plt.show()"
   ]
  },
  {
   "cell_type": "code",
   "execution_count": 154,
   "id": "c2f1519d-9647-4e7f-99d8-a917dee6538a",
   "metadata": {},
   "outputs": [
    {
     "data": {
      "text/plain": [
       "(5.31530044656111, 5.334203974557561)"
      ]
     },
     "execution_count": 154,
     "metadata": {},
     "output_type": "execute_result"
    }
   ],
   "source": [
    "import statistics\n",
    "\n",
    "def mean_confidence_interval(data, confidence=0.95):\n",
    "    a = 1.0 * np.array(data)\n",
    "    n = len(a)\n",
    "    m, se = np.mean(a), scipy.stats.sem(a)\n",
    "    h = se * scipy.stats.t.ppf((1 + confidence) / 2., n-1)\n",
    "    return m, m-h, m+h\n",
    "\n",
    "def confidence_interval(data, confidence=0.95):\n",
    "  dist = statistics.NormalDist.from_samples(data)\n",
    "  z = statistics.NormalDist().inv_cdf((1 + confidence) / 2.)\n",
    "  h = dist.stdev * z / ((len(data) - 1) ** .5)\n",
    "  return dist.mean - h, dist.mean + h\n",
    "\n",
    "# confidence_interval(data['description'].str.split().apply(lambda tokens: np.mean([len(token) for token in tokens])))\n",
    "a = data['description'].str.split().apply(lambda tokens: np.mean([len(token) for token in tokens]))\n",
    "scipy.stats.t.interval(0.95, len(a)-1, loc=np.mean(a), scale=scipy.stats.sem(a))"
   ]
  },
  {
   "cell_type": "code",
   "execution_count": 143,
   "id": "29f80761-7874-432f-a2cd-9693f14993a2",
   "metadata": {},
   "outputs": [
    {
     "data": {
      "image/png": "[encoded data removed]",
      "text/plain": [
       "<Figure size 2000x1000 with 1 Axes>"
      ]
     },
     "metadata": {},
     "output_type": "display_data"
    }
   ],
   "source": [
    "plt.figure(figsize=(20, 10))\n",
    "ax = sns.histplot(data['description'].str.split().apply(lambda tokens: np.mean([len(token) for token in tokens])))\n",
    "ax.tick_params(labelsize=15)\n",
    "ax.spines['top'].set_visible(False)\n",
    "ax.spines['right'].set_visible(False)\n",
    "ax.spines['bottom'].set_visible(False)\n",
    "ax.spines['left'].set_visible(False)\n",
    "plt.show()"
   ]
  },
  {
   "cell_type": "code",
   "execution_count": 155,
   "id": "fd8c244f-406a-4b0b-9b59-e0e4b32b929e",
   "metadata": {},
   "outputs": [
    {
     "data": {
      "text/plain": [
       "count    18711.000000\n",
       "mean         5.324752\n",
       "std          0.659607\n",
       "min          2.676471\n",
       "25%          4.915663\n",
       "50%          5.266667\n",
       "75%          5.666667\n",
       "max         13.032258\n",
       "Name: description, dtype: float64"
      ]
     },
     "execution_count": 155,
     "metadata": {},
     "output_type": "execute_result"
    }
   ],
   "source": [
    "data['description'].str.split().apply(lambda tokens: np.mean([len(token) for token in tokens])).describe()"
   ]
  },
  {
   "cell_type": "code",
   "execution_count": 158,
   "id": "e9876238-dae6-4192-80c2-225177b11c6a",
   "metadata": {},
   "outputs": [
    {
     "name": "stderr",
     "output_type": "stream",
     "text": [
      "/tmp/ipykernel_10240/272737543.py:2: DeprecationWarning: DataFrameGroupBy.apply operated on the grouping columns. This behavior is deprecated, and in a future version of pandas the grouping columns will be excluded from the operation. Either pass `include_groups=False` to exclude the groupings or explicitly select the grouping columns after groupby to silence this warning.\n",
      "  .apply(lambda row: row['description'].str.split().values) \\\n"
     ]
    },
    {
     "data": {
      "text/plain": [
       "parent_category\n",
       "Arts           5.324892\n",
       "Cell Phones    5.164519\n",
       "Clothing       5.340515\n",
       "Grocery        5.124417\n",
       "Health         5.625049\n",
       "Industrial     5.594141\n",
       "Patio          5.233146\n",
       "Sports         5.289007\n",
       "Tools          5.378970\n",
       "Toys           5.185482\n",
       "dtype: float64"
      ]
     },
     "execution_count": 158,
     "metadata": {},
     "output_type": "execute_result"
    }
   ],
   "source": [
    "chars_count_per_parent_category = data.groupby(['parent_category']) \\\n",
    "    .apply(lambda row: row['description'].str.split().values) \\\n",
    "    .apply(lambda x: np.mean([len(j) for i in x for j in i]))\n",
    "\n",
    "chars_count_per_parent_category"
   ]
  },
  {
   "cell_type": "code",
   "execution_count": 159,
   "id": "b2f63c51-23fc-4222-a0d0-fededd14bcab",
   "metadata": {},
   "outputs": [
    {
     "data": {
      "image/png": "[encoded data removed]",
      "text/plain": [
       "<Figure size 2000x1000 with 1 Axes>"
      ]
     },
     "metadata": {},
     "output_type": "display_data"
    }
   ],
   "source": [
    "keys = list(chars_count_per_parent_category.keys())\n",
    "# get values in the same order as keys, and parse percentage values\n",
    "vals = list(chars_count_per_parent_category.values)\n",
    "\n",
    "plt.figure(figsize=(20, 10))\n",
    "ax = sns.barplot(x=vals, y=keys)\n",
    "ax.tick_params(labelsize=15)\n",
    "ax.spines['top'].set_visible(False)\n",
    "ax.spines['right'].set_visible(False)\n",
    "ax.spines['bottom'].set_visible(False)\n",
    "ax.spines['left'].set_visible(False)\n",
    "plt.show()"
   ]
  },
  {
   "cell_type": "code",
   "execution_count": 160,
   "id": "f86762da-ec3d-4296-98b4-cadac7407fae",
   "metadata": {},
   "outputs": [],
   "source": [
    "words_counter = Counter()\n",
    "\n",
    "for tokens in data['description'].str.split():\n",
    "    words_counter += Counter(tokens)\n",
    "\n",
    "words_counter_x, words_counter_y= [], []\n",
    "\n",
    "for word,count in words_counter.most_common(15):\n",
    "    words_counter_x.append(word)\n",
    "    words_counter_y.append(count)"
   ]
  },
  {
   "cell_type": "code",
   "execution_count": 161,
   "id": "58d0dfc7-0fce-4006-b863-d8a4499caa00",
   "metadata": {},
   "outputs": [
    {
     "data": {
      "text/plain": [
       "[('and', 50059),\n",
       " ('the', 45370),\n",
       " ('a', 29152),\n",
       " ('to', 28974),\n",
       " ('of', 25210),\n",
       " ('for', 20484),\n",
       " ('is', 17423),\n",
       " ('with', 16671),\n",
       " ('in', 15654),\n",
       " ('The', 12350),\n",
       " ('your', 10403),\n",
       " ('or', 8955),\n",
       " ('are', 7467),\n",
       " ('on', 7317),\n",
       " ('you', 6958)]"
      ]
     },
     "execution_count": 161,
     "metadata": {},
     "output_type": "execute_result"
    }
   ],
   "source": [
    "words_counter.most_common(15)"
   ]
  },
  {
   "cell_type": "code",
   "execution_count": 162,
   "id": "623f1771-e845-441e-88ca-ec2ae5e28f72",
   "metadata": {},
   "outputs": [
    {
     "data": {
      "image/png": "[encoded data removed]",
      "text/plain": [
       "<Figure size 640x480 with 1 Axes>"
      ]
     },
     "metadata": {},
     "output_type": "display_data"
    }
   ],
   "source": [
    "ax = sns.barplot(x=words_counter_y, y=words_counter_x)\n",
    "ax.tick_params(labelsize=15)\n",
    "ax.spines['top'].set_visible(False)\n",
    "ax.spines['right'].set_visible(False)\n",
    "ax.spines['bottom'].set_visible(False)\n",
    "ax.spines['left'].set_visible(False)\n",
    "plt.show()"
   ]
  },
  {
   "cell_type": "code",
   "execution_count": 164,
   "id": "6997aba4-5941-46d3-9071-7effef06d2db",
   "metadata": {},
   "outputs": [
    {
     "data": {
      "image/png": "[encoded data removed]",
      "text/plain": [
       "<Figure size 640x480 with 1 Axes>"
      ]
     },
     "metadata": {},
     "output_type": "display_data"
    }
   ],
   "source": [
    "def get_top_ngram(corpus, n=None):\n",
    "    vec = CountVectorizer(ngram_range=(n, n)).fit(corpus)\n",
    "    bag_of_words = vec.transform(corpus)\n",
    "    sum_words = bag_of_words.sum(axis=0)\n",
    "    words_freq = [(word, sum_words[0, idx])\n",
    "                  for word, idx in vec.vocabulary_.items()]\n",
    "    words_freq =sorted(words_freq, key = lambda x: x[1], reverse=True)\n",
    "    return words_freq[:15]\n",
    "\n",
    "top_n_bigrams=get_top_ngram(data['description'], 3)[:15]\n",
    "x,y=map(list,zip(*top_n_bigrams))\n",
    "ax = sns.barplot(x=y,y=x)\n",
    "ax.tick_params(labelsize=15)\n",
    "ax.spines['top'].set_visible(False)\n",
    "ax.spines['right'].set_visible(False)\n",
    "ax.spines['bottom'].set_visible(False)\n",
    "ax.spines['left'].set_visible(False)\n",
    "plt.show()"
   ]
  }
 ],
 "metadata": {
  "kernelspec": {
   "display_name": "Python 3 (ipykernel)",
   "language": "python",
   "name": "python3"
  },
  "language_info": {
   "codemirror_mode": {
    "name": "ipython",
    "version": 3
   },
   "file_extension": ".py",
   "mimetype": "text/x-python",
   "name": "python",
   "nbconvert_exporter": "python",
   "pygments_lexer": "ipython3",
   "version": "3.10.11"
  }
 },
 "nbformat": 4,
 "nbformat_minor": 5
}
