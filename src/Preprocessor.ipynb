{
 "cells": [
  {
   "cell_type": "code",
   "execution_count": 1,
   "id": "320cf5dc-ab8e-4b58-a041-6720c95446df",
   "metadata": {},
   "outputs": [],
   "source": [
    "import pandas as pd\n",
    "import numpy as np\n",
    "import matplotlib.pyplot as plt\n",
    "import seaborn as sns\n",
    "import scipy\n",
    "from collections import Counter\n",
    "from sklearn.feature_extraction.text import CountVectorizer\n",
    "from datasets_utils import get_luxury_data, get_tech_data, get_retail_data, get_big_basket_data\n",
    "from preprocessing.utils import remove_HTML, remove_punctuation, keep_alpha_numerical, remove_space, remove_stopwords, apply_lemmetization"
   ]
  },
  {
   "cell_type": "code",
   "execution_count": 2,
   "id": "c885aea5-400d-42cb-835b-ea6c7ae12f8e",
   "metadata": {},
   "outputs": [
    {
     "data": {
      "text/plain": [
       "((4754, 2), (22876, 2), (18711, 2), (26573, 2))"
      ]
     },
     "execution_count": 2,
     "metadata": {},
     "output_type": "execute_result"
    }
   ],
   "source": [
    "luxury_data = get_luxury_data()\n",
    "tech_data = get_tech_data()\n",
    "retail_data = get_retail_data()\n",
    "big_basket_data = get_big_basket_data()\n",
    "\n",
    "luxury_data.shape, tech_data.shape, retail_data.shape, big_basket_data.shape"
   ]
  },
  {
   "cell_type": "code",
   "execution_count": 3,
   "id": "63b5fa48-93fe-4f54-b811-e03cd9c1a751",
   "metadata": {},
   "outputs": [
    {
     "data": {
      "text/plain": [
       "'best developer admins GUI tool Sqlite sqlite world joking bit contains complete feature set tool available Visit project homepage info bugtracker documentation etcThe best developer admins GUI tool Sqlite sqlite world joking bit contains complete feature set tool available Visit project homepage info bugtracker documentation etc'"
      ]
     },
     "execution_count": 3,
     "metadata": {},
     "output_type": "execute_result"
    }
   ],
   "source": [
    "def preprocess(sentence):\n",
    "    result = remove_HTML(sentence)\n",
    "    result = remove_punctuation(result)\n",
    "    result = keep_alpha_numerical(result)\n",
    "    result = remove_space(result)\n",
    "    result = remove_stopwords(result)\n",
    "    result = apply_lemmetization(result)\n",
    "    result = remove_space(result)\n",
    "    return result\n",
    "\n",
    "tech_data['description'].apply(preprocess).loc[123]"
   ]
  }
 ],
 "metadata": {
  "kernelspec": {
   "display_name": "Python 3 (ipykernel)",
   "language": "python",
   "name": "python3"
  },
  "language_info": {
   "codemirror_mode": {
    "name": "ipython",
    "version": 3
   },
   "file_extension": ".py",
   "mimetype": "text/x-python",
   "name": "python",
   "nbconvert_exporter": "python",
   "pygments_lexer": "ipython3",
   "version": "3.10.11"
  }
 },
 "nbformat": 4,
 "nbformat_minor": 5
}
